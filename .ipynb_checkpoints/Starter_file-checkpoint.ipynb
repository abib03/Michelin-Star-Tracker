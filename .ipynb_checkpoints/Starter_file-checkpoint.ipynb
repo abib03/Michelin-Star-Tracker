{
 "cells": [
  {
   "cell_type": "markdown",
   "id": "5893fa10",
   "metadata": {},
   "source": [
    "# Michelin Star Restuarants for New York City and San Francisco"
   ]
  },
  {
   "cell_type": "markdown",
   "id": "592d14e2",
   "metadata": {},
   "source": [
    "## Imports and Reading in CSVs"
   ]
  },
  {
   "cell_type": "code",
   "execution_count": 31,
   "id": "d2fdeb8d",
   "metadata": {},
   "outputs": [],
   "source": [
    "import panel as pn\n",
    "pn.extension('plotly')\n",
    "import plotly.express as px\n",
    "import pandas as pd\n",
    "import hvplot.pandas\n",
    "import matplotlib.pyplot as plt\n",
    "import numpy as np\n",
    "import os\n",
    "from pathlib import Path\n",
    "from dotenv import load_dotenv\n",
    "from panel.interact import interact\n",
    "from panel import widgets\n"
   ]
  },
  {
   "cell_type": "code",
   "execution_count": 32,
   "id": "44d4c738",
   "metadata": {},
   "outputs": [
    {
     "data": {
      "text/html": [
       "<div>\n",
       "<style scoped>\n",
       "    .dataframe tbody tr th:only-of-type {\n",
       "        vertical-align: middle;\n",
       "    }\n",
       "\n",
       "    .dataframe tbody tr th {\n",
       "        vertical-align: top;\n",
       "    }\n",
       "\n",
       "    .dataframe thead th {\n",
       "        text-align: right;\n",
       "    }\n",
       "</style>\n",
       "<table border=\"1\" class=\"dataframe\">\n",
       "  <thead>\n",
       "    <tr style=\"text-align: right;\">\n",
       "      <th></th>\n",
       "      <th>name</th>\n",
       "      <th>latitude</th>\n",
       "      <th>longitude</th>\n",
       "      <th>city</th>\n",
       "      <th>region</th>\n",
       "      <th>zipCode</th>\n",
       "      <th>cuisine</th>\n",
       "      <th>price</th>\n",
       "      <th>url</th>\n",
       "    </tr>\n",
       "    <tr>\n",
       "      <th>year</th>\n",
       "      <th></th>\n",
       "      <th></th>\n",
       "      <th></th>\n",
       "      <th></th>\n",
       "      <th></th>\n",
       "      <th></th>\n",
       "      <th></th>\n",
       "      <th></th>\n",
       "      <th></th>\n",
       "    </tr>\n",
       "  </thead>\n",
       "  <tbody>\n",
       "    <tr>\n",
       "      <th>2019</th>\n",
       "      <td>Kilian Stuba</td>\n",
       "      <td>47.348580</td>\n",
       "      <td>10.17114</td>\n",
       "      <td>Kleinwalsertal</td>\n",
       "      <td>Austria</td>\n",
       "      <td>87568</td>\n",
       "      <td>Creative</td>\n",
       "      <td>5.0</td>\n",
       "      <td>https://guide.michelin.com/at/en/vorarlberg/kl...</td>\n",
       "    </tr>\n",
       "    <tr>\n",
       "      <th>2019</th>\n",
       "      <td>Pfefferschiff</td>\n",
       "      <td>47.837870</td>\n",
       "      <td>13.07917</td>\n",
       "      <td>Hallwang</td>\n",
       "      <td>Austria</td>\n",
       "      <td>5300</td>\n",
       "      <td>Classic cuisine</td>\n",
       "      <td>5.0</td>\n",
       "      <td>https://guide.michelin.com/at/en/salzburg-regi...</td>\n",
       "    </tr>\n",
       "    <tr>\n",
       "      <th>2019</th>\n",
       "      <td>Esszimmer</td>\n",
       "      <td>47.806850</td>\n",
       "      <td>13.03409</td>\n",
       "      <td>Salzburg</td>\n",
       "      <td>Austria</td>\n",
       "      <td>5020</td>\n",
       "      <td>Creative</td>\n",
       "      <td>5.0</td>\n",
       "      <td>https://guide.michelin.com/at/en/salzburg-regi...</td>\n",
       "    </tr>\n",
       "    <tr>\n",
       "      <th>2019</th>\n",
       "      <td>Carpe Diem</td>\n",
       "      <td>47.800010</td>\n",
       "      <td>13.04006</td>\n",
       "      <td>Salzburg</td>\n",
       "      <td>Austria</td>\n",
       "      <td>5020</td>\n",
       "      <td>Market cuisine</td>\n",
       "      <td>5.0</td>\n",
       "      <td>https://guide.michelin.com/at/en/salzburg-regi...</td>\n",
       "    </tr>\n",
       "    <tr>\n",
       "      <th>2019</th>\n",
       "      <td>Edvard</td>\n",
       "      <td>48.216503</td>\n",
       "      <td>16.36852</td>\n",
       "      <td>Wien</td>\n",
       "      <td>Austria</td>\n",
       "      <td>1010</td>\n",
       "      <td>Modern cuisine</td>\n",
       "      <td>4.0</td>\n",
       "      <td>https://guide.michelin.com/at/en/vienna/wien/r...</td>\n",
       "    </tr>\n",
       "  </tbody>\n",
       "</table>\n",
       "</div>"
      ],
      "text/plain": [
       "               name   latitude  longitude            city   region zipCode  \\\n",
       "year                                                                         \n",
       "2019   Kilian Stuba  47.348580   10.17114  Kleinwalsertal  Austria   87568   \n",
       "2019  Pfefferschiff  47.837870   13.07917        Hallwang  Austria    5300   \n",
       "2019      Esszimmer  47.806850   13.03409        Salzburg  Austria    5020   \n",
       "2019     Carpe Diem  47.800010   13.04006        Salzburg  Austria    5020   \n",
       "2019         Edvard  48.216503   16.36852            Wien  Austria    1010   \n",
       "\n",
       "              cuisine  price  \\\n",
       "year                           \n",
       "2019         Creative    5.0   \n",
       "2019  Classic cuisine    5.0   \n",
       "2019         Creative    5.0   \n",
       "2019   Market cuisine    5.0   \n",
       "2019   Modern cuisine    4.0   \n",
       "\n",
       "                                                    url  \n",
       "year                                                     \n",
       "2019  https://guide.michelin.com/at/en/vorarlberg/kl...  \n",
       "2019  https://guide.michelin.com/at/en/salzburg-regi...  \n",
       "2019  https://guide.michelin.com/at/en/salzburg-regi...  \n",
       "2019  https://guide.michelin.com/at/en/salzburg-regi...  \n",
       "2019  https://guide.michelin.com/at/en/vienna/wien/r...  "
      ]
     },
     "execution_count": 32,
     "metadata": {},
     "output_type": "execute_result"
    }
   ],
   "source": [
    "file_path = Path(\"Data/one-star-michelin-restaurants.csv\")\n",
    "one_star_data = pd.read_csv(file_path, index_col='year')\n",
    "one_star_data.head()"
   ]
  },
  {
   "cell_type": "code",
   "execution_count": 33,
   "id": "092946ca",
   "metadata": {},
   "outputs": [
    {
     "data": {
      "text/html": [
       "<div>\n",
       "<style scoped>\n",
       "    .dataframe tbody tr th:only-of-type {\n",
       "        vertical-align: middle;\n",
       "    }\n",
       "\n",
       "    .dataframe tbody tr th {\n",
       "        vertical-align: top;\n",
       "    }\n",
       "\n",
       "    .dataframe thead th {\n",
       "        text-align: right;\n",
       "    }\n",
       "</style>\n",
       "<table border=\"1\" class=\"dataframe\">\n",
       "  <thead>\n",
       "    <tr style=\"text-align: right;\">\n",
       "      <th></th>\n",
       "      <th>name</th>\n",
       "      <th>latitude</th>\n",
       "      <th>longitude</th>\n",
       "      <th>city</th>\n",
       "      <th>region</th>\n",
       "      <th>zipCode</th>\n",
       "      <th>cuisine</th>\n",
       "      <th>price</th>\n",
       "      <th>url</th>\n",
       "    </tr>\n",
       "    <tr>\n",
       "      <th>year</th>\n",
       "      <th></th>\n",
       "      <th></th>\n",
       "      <th></th>\n",
       "      <th></th>\n",
       "      <th></th>\n",
       "      <th></th>\n",
       "      <th></th>\n",
       "      <th></th>\n",
       "      <th></th>\n",
       "    </tr>\n",
       "  </thead>\n",
       "  <tbody>\n",
       "    <tr>\n",
       "      <th>2019</th>\n",
       "      <td>SENNS.Restaurant</td>\n",
       "      <td>47.83636</td>\n",
       "      <td>13.06389</td>\n",
       "      <td>Salzburg</td>\n",
       "      <td>Austria</td>\n",
       "      <td>5020</td>\n",
       "      <td>Creative</td>\n",
       "      <td>5.0</td>\n",
       "      <td>https://guide.michelin.com/at/en/salzburg-regi...</td>\n",
       "    </tr>\n",
       "    <tr>\n",
       "      <th>2019</th>\n",
       "      <td>Ikarus</td>\n",
       "      <td>47.79536</td>\n",
       "      <td>13.00695</td>\n",
       "      <td>Salzburg</td>\n",
       "      <td>Austria</td>\n",
       "      <td>5020</td>\n",
       "      <td>Creative</td>\n",
       "      <td>5.0</td>\n",
       "      <td>https://guide.michelin.com/at/en/salzburg-regi...</td>\n",
       "    </tr>\n",
       "    <tr>\n",
       "      <th>2019</th>\n",
       "      <td>Mraz &amp; Sohn</td>\n",
       "      <td>48.23129</td>\n",
       "      <td>16.37637</td>\n",
       "      <td>Wien</td>\n",
       "      <td>Austria</td>\n",
       "      <td>1200</td>\n",
       "      <td>Creative</td>\n",
       "      <td>5.0</td>\n",
       "      <td>https://guide.michelin.com/at/en/vienna/wien/r...</td>\n",
       "    </tr>\n",
       "    <tr>\n",
       "      <th>2019</th>\n",
       "      <td>Konstantin Filippou</td>\n",
       "      <td>48.21056</td>\n",
       "      <td>16.37996</td>\n",
       "      <td>Wien</td>\n",
       "      <td>Austria</td>\n",
       "      <td>1010</td>\n",
       "      <td>Modern cuisine</td>\n",
       "      <td>5.0</td>\n",
       "      <td>https://guide.michelin.com/at/en/vienna/wien/r...</td>\n",
       "    </tr>\n",
       "    <tr>\n",
       "      <th>2019</th>\n",
       "      <td>Silvio Nickol Gourmet Restaurant</td>\n",
       "      <td>48.20558</td>\n",
       "      <td>16.37693</td>\n",
       "      <td>Wien</td>\n",
       "      <td>Austria</td>\n",
       "      <td>1010</td>\n",
       "      <td>Modern cuisine</td>\n",
       "      <td>5.0</td>\n",
       "      <td>https://guide.michelin.com/at/en/vienna/wien/r...</td>\n",
       "    </tr>\n",
       "  </tbody>\n",
       "</table>\n",
       "</div>"
      ],
      "text/plain": [
       "                                  name  latitude  longitude      city  \\\n",
       "year                                                                    \n",
       "2019                  SENNS.Restaurant  47.83636   13.06389  Salzburg   \n",
       "2019                            Ikarus  47.79536   13.00695  Salzburg   \n",
       "2019                       Mraz & Sohn  48.23129   16.37637      Wien   \n",
       "2019               Konstantin Filippou  48.21056   16.37996      Wien   \n",
       "2019  Silvio Nickol Gourmet Restaurant  48.20558   16.37693      Wien   \n",
       "\n",
       "       region zipCode         cuisine  price  \\\n",
       "year                                           \n",
       "2019  Austria    5020        Creative    5.0   \n",
       "2019  Austria    5020        Creative    5.0   \n",
       "2019  Austria    1200        Creative    5.0   \n",
       "2019  Austria    1010  Modern cuisine    5.0   \n",
       "2019  Austria    1010  Modern cuisine    5.0   \n",
       "\n",
       "                                                    url  \n",
       "year                                                     \n",
       "2019  https://guide.michelin.com/at/en/salzburg-regi...  \n",
       "2019  https://guide.michelin.com/at/en/salzburg-regi...  \n",
       "2019  https://guide.michelin.com/at/en/vienna/wien/r...  \n",
       "2019  https://guide.michelin.com/at/en/vienna/wien/r...  \n",
       "2019  https://guide.michelin.com/at/en/vienna/wien/r...  "
      ]
     },
     "execution_count": 33,
     "metadata": {},
     "output_type": "execute_result"
    }
   ],
   "source": [
    "file_path = Path(\"Data/two-stars-michelin-restaurants.csv\")\n",
    "two_star_data = pd.read_csv(file_path, index_col= 'year')\n",
    "two_star_data.head()"
   ]
  },
  {
   "cell_type": "code",
   "execution_count": 34,
   "id": "5c50c286",
   "metadata": {},
   "outputs": [
    {
     "data": {
      "text/html": [
       "<div>\n",
       "<style scoped>\n",
       "    .dataframe tbody tr th:only-of-type {\n",
       "        vertical-align: middle;\n",
       "    }\n",
       "\n",
       "    .dataframe tbody tr th {\n",
       "        vertical-align: top;\n",
       "    }\n",
       "\n",
       "    .dataframe thead th {\n",
       "        text-align: right;\n",
       "    }\n",
       "</style>\n",
       "<table border=\"1\" class=\"dataframe\">\n",
       "  <thead>\n",
       "    <tr style=\"text-align: right;\">\n",
       "      <th></th>\n",
       "      <th>name</th>\n",
       "      <th>latitude</th>\n",
       "      <th>longitude</th>\n",
       "      <th>city</th>\n",
       "      <th>region</th>\n",
       "      <th>zipCode</th>\n",
       "      <th>cuisine</th>\n",
       "      <th>price</th>\n",
       "      <th>url</th>\n",
       "    </tr>\n",
       "    <tr>\n",
       "      <th>year</th>\n",
       "      <th></th>\n",
       "      <th></th>\n",
       "      <th></th>\n",
       "      <th></th>\n",
       "      <th></th>\n",
       "      <th></th>\n",
       "      <th></th>\n",
       "      <th></th>\n",
       "      <th></th>\n",
       "    </tr>\n",
       "  </thead>\n",
       "  <tbody>\n",
       "    <tr>\n",
       "      <th>2019</th>\n",
       "      <td>Amador</td>\n",
       "      <td>48.25406</td>\n",
       "      <td>16.35915</td>\n",
       "      <td>Wien</td>\n",
       "      <td>Austria</td>\n",
       "      <td>1190</td>\n",
       "      <td>Creative</td>\n",
       "      <td>5.0</td>\n",
       "      <td>https://guide.michelin.com/at/en/vienna/wien/r...</td>\n",
       "    </tr>\n",
       "    <tr>\n",
       "      <th>2019</th>\n",
       "      <td>Manresa</td>\n",
       "      <td>37.22761</td>\n",
       "      <td>-121.98071</td>\n",
       "      <td>South San Francisco</td>\n",
       "      <td>California</td>\n",
       "      <td>95030</td>\n",
       "      <td>Contemporary</td>\n",
       "      <td>4.0</td>\n",
       "      <td>https://guide.michelin.com/us/en/california/so...</td>\n",
       "    </tr>\n",
       "    <tr>\n",
       "      <th>2019</th>\n",
       "      <td>Benu</td>\n",
       "      <td>37.78521</td>\n",
       "      <td>-122.39876</td>\n",
       "      <td>San Francisco</td>\n",
       "      <td>California</td>\n",
       "      <td>94105</td>\n",
       "      <td>Asian</td>\n",
       "      <td>4.0</td>\n",
       "      <td>https://guide.michelin.com/us/en/california/sa...</td>\n",
       "    </tr>\n",
       "    <tr>\n",
       "      <th>2019</th>\n",
       "      <td>Quince</td>\n",
       "      <td>37.79762</td>\n",
       "      <td>-122.40337</td>\n",
       "      <td>San Francisco</td>\n",
       "      <td>California</td>\n",
       "      <td>94133</td>\n",
       "      <td>Contemporary</td>\n",
       "      <td>4.0</td>\n",
       "      <td>https://guide.michelin.com/us/en/california/sa...</td>\n",
       "    </tr>\n",
       "    <tr>\n",
       "      <th>2019</th>\n",
       "      <td>Atelier Crenn</td>\n",
       "      <td>37.79835</td>\n",
       "      <td>-122.43586</td>\n",
       "      <td>San Francisco</td>\n",
       "      <td>California</td>\n",
       "      <td>94123</td>\n",
       "      <td>Contemporary</td>\n",
       "      <td>4.0</td>\n",
       "      <td>https://guide.michelin.com/us/en/california/sa...</td>\n",
       "    </tr>\n",
       "  </tbody>\n",
       "</table>\n",
       "</div>"
      ],
      "text/plain": [
       "               name  latitude  longitude                 city      region  \\\n",
       "year                                                                        \n",
       "2019         Amador  48.25406   16.35915                 Wien     Austria   \n",
       "2019        Manresa  37.22761 -121.98071  South San Francisco  California   \n",
       "2019           Benu  37.78521 -122.39876        San Francisco  California   \n",
       "2019         Quince  37.79762 -122.40337        San Francisco  California   \n",
       "2019  Atelier Crenn  37.79835 -122.43586        San Francisco  California   \n",
       "\n",
       "     zipCode       cuisine  price  \\\n",
       "year                                \n",
       "2019    1190      Creative    5.0   \n",
       "2019   95030  Contemporary    4.0   \n",
       "2019   94105         Asian    4.0   \n",
       "2019   94133  Contemporary    4.0   \n",
       "2019   94123  Contemporary    4.0   \n",
       "\n",
       "                                                    url  \n",
       "year                                                     \n",
       "2019  https://guide.michelin.com/at/en/vienna/wien/r...  \n",
       "2019  https://guide.michelin.com/us/en/california/so...  \n",
       "2019  https://guide.michelin.com/us/en/california/sa...  \n",
       "2019  https://guide.michelin.com/us/en/california/sa...  \n",
       "2019  https://guide.michelin.com/us/en/california/sa...  "
      ]
     },
     "execution_count": 34,
     "metadata": {},
     "output_type": "execute_result"
    }
   ],
   "source": [
    "file_path = Path(\"Data/three-stars-michelin-restaurants.csv\")\n",
    "three_star_data = pd.read_csv(file_path, index_col = 'year')\n",
    "three_star_data.head()"
   ]
  },
  {
   "cell_type": "markdown",
   "id": "7ea1626a",
   "metadata": {},
   "source": [
    "## NYC One Star Information"
   ]
  },
  {
   "cell_type": "code",
   "execution_count": 36,
   "id": "2aa0f97f",
   "metadata": {},
   "outputs": [
    {
     "data": {
      "text/html": [
       "<div>\n",
       "<style scoped>\n",
       "    .dataframe tbody tr th:only-of-type {\n",
       "        vertical-align: middle;\n",
       "    }\n",
       "\n",
       "    .dataframe tbody tr th {\n",
       "        vertical-align: top;\n",
       "    }\n",
       "\n",
       "    .dataframe thead th {\n",
       "        text-align: right;\n",
       "    }\n",
       "</style>\n",
       "<table border=\"1\" class=\"dataframe\">\n",
       "  <thead>\n",
       "    <tr style=\"text-align: right;\">\n",
       "      <th></th>\n",
       "      <th>name</th>\n",
       "      <th>latitude</th>\n",
       "      <th>longitude</th>\n",
       "      <th>city</th>\n",
       "      <th>region</th>\n",
       "      <th>zipCode</th>\n",
       "      <th>cuisine</th>\n",
       "      <th>price</th>\n",
       "      <th>url</th>\n",
       "    </tr>\n",
       "    <tr>\n",
       "      <th>year</th>\n",
       "      <th></th>\n",
       "      <th></th>\n",
       "      <th></th>\n",
       "      <th></th>\n",
       "      <th></th>\n",
       "      <th></th>\n",
       "      <th></th>\n",
       "      <th></th>\n",
       "      <th></th>\n",
       "    </tr>\n",
       "  </thead>\n",
       "  <tbody>\n",
       "    <tr>\n",
       "      <th>2019</th>\n",
       "      <td>Del Posto</td>\n",
       "      <td>40.743270</td>\n",
       "      <td>-74.00770</td>\n",
       "      <td>New York</td>\n",
       "      <td>New York City</td>\n",
       "      <td>10011</td>\n",
       "      <td>Italian</td>\n",
       "      <td>4.0</td>\n",
       "      <td>https://guide.michelin.com/us/en/new-york-stat...</td>\n",
       "    </tr>\n",
       "    <tr>\n",
       "      <th>2019</th>\n",
       "      <td>Le Grill de Joël Robuchon</td>\n",
       "      <td>40.742897</td>\n",
       "      <td>-74.00770</td>\n",
       "      <td>New York</td>\n",
       "      <td>New York City</td>\n",
       "      <td>10011</td>\n",
       "      <td>French</td>\n",
       "      <td>4.0</td>\n",
       "      <td>https://guide.michelin.com/us/en/new-york-stat...</td>\n",
       "    </tr>\n",
       "    <tr>\n",
       "      <th>2019</th>\n",
       "      <td>L'Appart</td>\n",
       "      <td>40.711903</td>\n",
       "      <td>-74.01544</td>\n",
       "      <td>New York</td>\n",
       "      <td>New York City</td>\n",
       "      <td>10281</td>\n",
       "      <td>French</td>\n",
       "      <td>4.0</td>\n",
       "      <td>https://guide.michelin.com/us/en/new-york-stat...</td>\n",
       "    </tr>\n",
       "    <tr>\n",
       "      <th>2019</th>\n",
       "      <td>Okuda</td>\n",
       "      <td>40.743793</td>\n",
       "      <td>-74.00633</td>\n",
       "      <td>New York</td>\n",
       "      <td>New York City</td>\n",
       "      <td>10011</td>\n",
       "      <td>Japanese</td>\n",
       "      <td>4.0</td>\n",
       "      <td>https://guide.michelin.com/us/en/new-york-stat...</td>\n",
       "    </tr>\n",
       "    <tr>\n",
       "      <th>2019</th>\n",
       "      <td>Wallsé</td>\n",
       "      <td>40.735380</td>\n",
       "      <td>-74.00814</td>\n",
       "      <td>New York</td>\n",
       "      <td>New York City</td>\n",
       "      <td>10014</td>\n",
       "      <td>Austrian</td>\n",
       "      <td>4.0</td>\n",
       "      <td>https://guide.michelin.com/us/en/new-york-stat...</td>\n",
       "    </tr>\n",
       "  </tbody>\n",
       "</table>\n",
       "</div>"
      ],
      "text/plain": [
       "                           name   latitude  longitude      city  \\\n",
       "year                                                              \n",
       "2019                  Del Posto  40.743270  -74.00770  New York   \n",
       "2019  Le Grill de Joël Robuchon  40.742897  -74.00770  New York   \n",
       "2019                   L'Appart  40.711903  -74.01544  New York   \n",
       "2019                      Okuda  40.743793  -74.00633  New York   \n",
       "2019                     Wallsé  40.735380  -74.00814  New York   \n",
       "\n",
       "             region zipCode   cuisine  price  \\\n",
       "year                                           \n",
       "2019  New York City   10011   Italian    4.0   \n",
       "2019  New York City   10011    French    4.0   \n",
       "2019  New York City   10281    French    4.0   \n",
       "2019  New York City   10011  Japanese    4.0   \n",
       "2019  New York City   10014  Austrian    4.0   \n",
       "\n",
       "                                                    url  \n",
       "year                                                     \n",
       "2019  https://guide.michelin.com/us/en/new-york-stat...  \n",
       "2019  https://guide.michelin.com/us/en/new-york-stat...  \n",
       "2019  https://guide.michelin.com/us/en/new-york-stat...  \n",
       "2019  https://guide.michelin.com/us/en/new-york-stat...  \n",
       "2019  https://guide.michelin.com/us/en/new-york-stat...  "
      ]
     },
     "execution_count": 36,
     "metadata": {},
     "output_type": "execute_result"
    }
   ],
   "source": [
    "nyc_one_star_data = one_star_data.loc[one_star_data['city'] == 'New York']\n",
    "nyc_one_star_data.head()"
   ]
  },
  {
   "cell_type": "code",
   "execution_count": 37,
   "id": "4f577ebf",
   "metadata": {},
   "outputs": [
    {
     "data": {
      "text/plain": [
       "name       0\n",
       "cuisine    0\n",
       "price      0\n",
       "dtype: int64"
      ]
     },
     "execution_count": 37,
     "metadata": {},
     "output_type": "execute_result"
    }
   ],
   "source": [
    "nyc_one_df = nyc_one_star_data.drop(['latitude', 'longitude', 'zipCode', 'url', 'region'], axis=1)\n",
    "nyc_one_df = nyc_one_df.set_index('city')\n",
    "#nyc_one_df.count()\n",
    "nyc_one_df.isnull().sum()"
   ]
  },
  {
   "cell_type": "code",
   "execution_count": null,
   "id": "c5549fbe",
   "metadata": {},
   "outputs": [],
   "source": [
    "#nyc_one_df['price']."
   ]
  },
  {
   "cell_type": "code",
   "execution_count": null,
   "id": "1c992f1e",
   "metadata": {},
   "outputs": [],
   "source": [
    "#nyc_one_bar = nyc_one_df.plot.bar(x = 'cuisine', y =)\n",
    "#nyc_one_bar"
   ]
  },
  {
   "cell_type": "code",
   "execution_count": null,
   "id": "1084ad6b",
   "metadata": {},
   "outputs": [],
   "source": [
    "nyc_one_df.isnull().sum()"
   ]
  },
  {
   "cell_type": "markdown",
   "id": "1dca0997",
   "metadata": {},
   "source": [
    "### Location Data"
   ]
  },
  {
   "cell_type": "code",
   "execution_count": 38,
   "id": "2ccd259d",
   "metadata": {},
   "outputs": [
    {
     "data": {
      "text/plain": [
       "name         0\n",
       "latitude     0\n",
       "longitude    0\n",
       "zipCode      0\n",
       "dtype: int64"
      ]
     },
     "execution_count": 38,
     "metadata": {},
     "output_type": "execute_result"
    }
   ],
   "source": [
    "nyc_one_loc = nyc_one_star_data.drop(['cuisine', 'url', 'price', 'region'], axis=1)\n",
    "nyc_one_loc = nyc_one_loc.set_index('city')\n",
    "nyc_one_loc.isnull().sum()"
   ]
  },
  {
   "cell_type": "code",
   "execution_count": null,
   "id": "5a7a5a49",
   "metadata": {},
   "outputs": [],
   "source": [
    "nyc_one_loc.isnull().sum()"
   ]
  },
  {
   "cell_type": "markdown",
   "id": "9b262e20",
   "metadata": {},
   "source": [
    "## NYC Two Star Information"
   ]
  },
  {
   "cell_type": "code",
   "execution_count": null,
   "id": "cc8ebe1d",
   "metadata": {},
   "outputs": [],
   "source": [
    "nyc_two_star_data = two_star_data.loc[two_star_data['city'] == 'New York']\n",
    "nyc_two_star_data.head()"
   ]
  },
  {
   "cell_type": "code",
   "execution_count": null,
   "id": "e4e5e2a4",
   "metadata": {},
   "outputs": [],
   "source": [
    "nyc_two_df = nyc_two_star_data.drop(['latitude', 'longitude', 'zipCode', 'url', 'region'], axis=1)\n",
    "nyc_two_df = nyc_two_df.set_index('city')\n",
    "nyc_two_df.head()"
   ]
  },
  {
   "cell_type": "markdown",
   "id": "fadd02fc",
   "metadata": {},
   "source": [
    "### Location Data"
   ]
  },
  {
   "cell_type": "code",
   "execution_count": null,
   "id": "09aedacb",
   "metadata": {},
   "outputs": [],
   "source": [
    "nyc_two_loc = nyc_two_star_data.drop(['cuisine', 'url', 'price', 'region'], axis=1)\n",
    "nyc_two_loc = nyc_two_loc.set_index('city')\n",
    "nyc_two_loc.head()"
   ]
  },
  {
   "cell_type": "code",
   "execution_count": null,
   "id": "fd1b54ba",
   "metadata": {},
   "outputs": [],
   "source": [
    "nyc_two_loc.isnull().sum()"
   ]
  },
  {
   "cell_type": "markdown",
   "id": "03b50d8b",
   "metadata": {},
   "source": [
    "## NYC Three Star Information"
   ]
  },
  {
   "cell_type": "code",
   "execution_count": null,
   "id": "a032e3d2",
   "metadata": {},
   "outputs": [],
   "source": [
    "nyc_three_star_data = three_star_data.loc[three_star_data['city'] == 'New York']\n",
    "nyc_three_star_data.head()\n"
   ]
  },
  {
   "cell_type": "code",
   "execution_count": null,
   "id": "40f1a2e6",
   "metadata": {},
   "outputs": [],
   "source": [
    "nyc_three_df = nyc_three_star_data.drop(['latitude', 'longitude', 'zipCode', 'url', 'region'], axis=1)\n",
    "nyc_three_df = nyc_three_df.set_index('city')\n",
    "nyc_three_df.head()"
   ]
  },
  {
   "cell_type": "markdown",
   "id": "8d44b548",
   "metadata": {},
   "source": [
    "### Location Data"
   ]
  },
  {
   "cell_type": "code",
   "execution_count": null,
   "id": "2f0a9cad",
   "metadata": {},
   "outputs": [],
   "source": [
    "nyc_three_loc = nyc_three_star_data.drop(['cuisine', 'url', 'price', 'region'], axis=1)\n",
    "nyc_three_loc = nyc_three_loc.set_index('city')\n",
    "nyc_three_loc.head()"
   ]
  },
  {
   "cell_type": "markdown",
   "id": "67b861d5",
   "metadata": {},
   "source": [
    "## SF One Star Information"
   ]
  },
  {
   "cell_type": "code",
   "execution_count": null,
   "id": "325feac1",
   "metadata": {},
   "outputs": [],
   "source": [
    "sf_one_star_data = one_star_data.loc[one_star_data['city'] == 'San Francisco']\n",
    "sf_one_star_data.head()"
   ]
  },
  {
   "cell_type": "code",
   "execution_count": null,
   "id": "7d9dc0f2",
   "metadata": {},
   "outputs": [],
   "source": [
    "sf_one_df = sf_one_star_data.drop(['latitude', 'longitude', 'zipCode', 'url', 'region'], axis=1)\n",
    "sf_one_df = sf_one_df.set_index('city')\n",
    "sf_one_df.head()"
   ]
  },
  {
   "cell_type": "markdown",
   "id": "a06604c5",
   "metadata": {},
   "source": [
    "### Location Data"
   ]
  },
  {
   "cell_type": "code",
   "execution_count": null,
   "id": "1edfe595",
   "metadata": {},
   "outputs": [],
   "source": [
    "sf_one_loc = sf_one_star_data.drop(['cuisine', 'url', 'price', 'region'], axis=1)\n",
    "sf_one_loc = sf_one_loc.set_index('city')\n",
    "sf_one_loc.head()"
   ]
  },
  {
   "cell_type": "markdown",
   "id": "87418821",
   "metadata": {},
   "source": [
    "## SF Two Star Information"
   ]
  },
  {
   "cell_type": "code",
   "execution_count": null,
   "id": "56b3a4fc",
   "metadata": {},
   "outputs": [],
   "source": [
    "sf_two_star_data = two_star_data.loc[two_star_data['city'] == 'San Francisco']\n",
    "sf_two_star_data.head()"
   ]
  },
  {
   "cell_type": "code",
   "execution_count": null,
   "id": "bde02082",
   "metadata": {},
   "outputs": [],
   "source": [
    "sf_two_df = sf_two_star_data.drop(['latitude', 'longitude', 'zipCode', 'url', 'region'], axis=1)\n",
    "sf_two_df = sf_two_df.set_index('city')\n",
    "sf_one_df.head()"
   ]
  },
  {
   "cell_type": "markdown",
   "id": "8433b639",
   "metadata": {},
   "source": [
    "### Location Data"
   ]
  },
  {
   "cell_type": "code",
   "execution_count": null,
   "id": "5ec20ecb",
   "metadata": {},
   "outputs": [],
   "source": [
    "sf_two_loc = sf_two_star_data.drop(['cuisine', 'url', 'price', 'region'], axis=1)\n",
    "sf_two_loc = sf_two_loc.set_index('city')\n",
    "sf_two_loc.head()"
   ]
  },
  {
   "cell_type": "markdown",
   "id": "13a78b30",
   "metadata": {},
   "source": [
    "## SF Three Star Information"
   ]
  },
  {
   "cell_type": "code",
   "execution_count": null,
   "id": "855120d2",
   "metadata": {},
   "outputs": [],
   "source": [
    "sf_three_star_data = three_star_data.loc[three_star_data['city'] == 'San Francisco']\n",
    "sf_three_star_data.head()"
   ]
  },
  {
   "cell_type": "code",
   "execution_count": null,
   "id": "8449a1aa",
   "metadata": {},
   "outputs": [],
   "source": [
    "sf_three_df = sf_three_star_data.drop(['latitude', 'longitude', 'zipCode', 'url', 'region'], axis=1)\n",
    "sf_three_df = sf_three_df.set_index('city')\n",
    "sf_three_df.head()"
   ]
  },
  {
   "cell_type": "markdown",
   "id": "7e3e6f85",
   "metadata": {},
   "source": [
    "### Location Data"
   ]
  },
  {
   "cell_type": "code",
   "execution_count": null,
   "id": "a640d2a3",
   "metadata": {},
   "outputs": [],
   "source": [
    "sf_three_loc = sf_three_star_data.drop(['cuisine', 'url', 'price', 'region'], axis=1)\n",
    "sf_three_loc = sf_three_loc.set_index('city')\n",
    "sf_three_loc.head()"
   ]
  },
  {
   "cell_type": "markdown",
   "id": "74720b03",
   "metadata": {},
   "source": [
    "# Combined DataFrames"
   ]
  },
  {
   "cell_type": "code",
   "execution_count": null,
   "id": "79a4f490",
   "metadata": {},
   "outputs": [],
   "source": []
  },
  {
   "cell_type": "markdown",
   "id": "0fef1491",
   "metadata": {},
   "source": [
    "# Graphs"
   ]
  },
  {
   "cell_type": "code",
   "execution_count": null,
   "id": "387dd449",
   "metadata": {},
   "outputs": [],
   "source": []
  }
 ],
 "metadata": {
  "kernelspec": {
   "display_name": "Python 3 (ipykernel)",
   "language": "python",
   "name": "python3"
  },
  "language_info": {
   "codemirror_mode": {
    "name": "ipython",
    "version": 3
   },
   "file_extension": ".py",
   "mimetype": "text/x-python",
   "name": "python",
   "nbconvert_exporter": "python",
   "pygments_lexer": "ipython3",
   "version": "3.9.7"
  }
 },
 "nbformat": 4,
 "nbformat_minor": 5
}
